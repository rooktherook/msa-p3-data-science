{
 "cells": [
  {
   "cell_type": "markdown",
   "metadata": {},
   "source": [
    "# Phase 3 Data Science Report"
   ]
  },
  {
   "cell_type": "markdown",
   "metadata": {},
   "source": [
    "# Introduction"
   ]
  },
  {
   "cell_type": "markdown",
   "metadata": {},
   "source": [
    "I picked dogs as my label because I thought it would be interesting to model man's best friend."
   ]
  },
  {
   "cell_type": "markdown",
   "metadata": {},
   "source": [
    "# Model Process"
   ]
  },
  {
   "cell_type": "markdown",
   "metadata": {},
   "source": [
    "I first processed the batch data into a training set of 10000 elements and a testing set of 2000 elements, both sets contained the images, the associated images and both comprised 50% of my chosen label (Dogs) and 50% of the other labels in as equal parts as possible.\n",
    "\n",
    "\n",
    "\n",
    "\n",
    "![](modelshape.PNG)\n",
    "My model contained a conv2d with 64 filters, 1 max pooling layer, 1 flatten layer,a dense layer with 64 nodes, and the last dense layer with 1 node which was the output.\n",
    "\n",
    "My optimizer was the Adam optimizer using the default learning rate of 0.001. it provides a stochastic gradient descent method that is based on adaptive estimation of first-order and second-order moments.\n",
    "My loss was binary_crossentropy which would be useful in my modal as it is a binary classification task, where 1 is a dog label and 0 is a non-doglabel"
   ]
  },
  {
   "cell_type": "markdown",
   "metadata": {},
   "source": [
    "# Model Performance"
   ]
  },
  {
   "cell_type": "markdown",
   "metadata": {},
   "source": [
    "Graph for accuracy\n",
    "![](graph1.PNG)\n",
    "The blue line is the validation set\n",
    "The orange line is the training set \n",
    "Graph for loss\n",
    "![](graph2.PNG)\n",
    "The blue line is the validation set\n",
    "The orange line is the training set \n",
    "\n",
    "Comments - \n",
    "These graphs were a sign of good results as we can observe that the accuracy of the model increased as time went on."
   ]
  },
  {
   "cell_type": "markdown",
   "metadata": {},
   "source": [
    "# Conclusion"
   ]
  },
  {
   "cell_type": "markdown",
   "metadata": {},
   "source": [
    "I am happy the results as the model reached an accuracy of 77% on its evaluation of the test set. The accuracy would have likely been improved by adding more layers into the model shape or by increasing the number of epochs and batch-size, though it would increase the time taken to complete the model fitting.\n",
    "\n",
    "Additionaly, using hyperparamterization on the model resulted in an accuracy increase to 80%, which was an improvement from the original accuracy of 77%.\n",
    "\n",
    "One interesting observation came from the evaluation of two random dog images i found. The second evaluated image scored 0.293 which was very low. I had suspected that the score was so low because the background was too large compared to the dog in the image. "
   ]
  },
  {
   "cell_type": "markdown",
   "metadata": {},
   "source": [
    "# References\n",
    "\n",
    "1. [Learning Multiple Layers of Features from Tiny Images](http://www.cs.toronto.edu/~kriz/learning-features-2009-TR.pdf), Alex Krizhevsky, 2009."
   ]
  }
 ],
 "metadata": {
  "kernelspec": {
   "display_name": "Python 3.10.5 64-bit",
   "language": "python",
   "name": "python3"
  },
  "language_info": {
   "name": "python",
   "version": "3.10.5"
  },
  "orig_nbformat": 4,
  "vscode": {
   "interpreter": {
    "hash": "e192c477015e0c8e4427e2a21fcada2aaf43102079abc726728a52ed32b2764a"
   }
  }
 },
 "nbformat": 4,
 "nbformat_minor": 2
}
